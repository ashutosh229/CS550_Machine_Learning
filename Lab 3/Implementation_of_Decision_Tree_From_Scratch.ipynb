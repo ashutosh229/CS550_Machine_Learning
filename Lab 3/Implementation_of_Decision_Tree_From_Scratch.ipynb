{
  "nbformat": 4,
  "nbformat_minor": 0,
  "metadata": {
    "colab": {
      "provenance": [],
      "gpuType": "T4"
    },
    "kernelspec": {
      "name": "python3",
      "display_name": "Python 3"
    },
    "language_info": {
      "name": "python"
    },
    "accelerator": "GPU"
  },
  "cells": [
    {
      "cell_type": "code",
      "execution_count": 33,
      "metadata": {
        "id": "MLLIQYAYcwVZ"
      },
      "outputs": [],
      "source": [
        "import numpy as np\n",
        "import pandas as pd\n",
        "from collections import Counter\n",
        "from sklearn.datasets import load_iris\n",
        "from sklearn.model_selection import train_test_split"
      ]
    },
    {
      "cell_type": "code",
      "source": [
        "def entropy(y):\n",
        "    counts = np.bincount(y)\n",
        "    probabilities = counts[np.nonzero(counts)] / len(y)\n",
        "    return -np.sum(probabilities * np.log2(probabilities))"
      ],
      "metadata": {
        "id": "ZVHiteiUi3Cv"
      },
      "execution_count": 34,
      "outputs": []
    },
    {
      "cell_type": "code",
      "source": [
        "def information_gain(X_column, y, split_threshold):\n",
        "    parent_entropy = entropy(y)\n",
        "    left_idxs = np.where(X_column <= split_threshold)[0]\n",
        "    right_idxs = np.where(X_column > split_threshold)[0]\n",
        "    if len(left_idxs) == 0 or len(right_idxs) == 0:\n",
        "        return 0\n",
        "    n = len(y)\n",
        "    n_left, n_right = len(left_idxs), len(right_idxs)\n",
        "    e_left, e_right = entropy(y[left_idxs]), entropy(y[right_idxs])\n",
        "    child_entropy = (n_left / n) * e_left + (n_right / n) * e_right\n",
        "    return parent_entropy - child_entropy"
      ],
      "metadata": {
        "id": "4o4jEcKFx8Bv"
      },
      "execution_count": 35,
      "outputs": []
    },
    {
      "cell_type": "code",
      "source": [
        "class Node:\n",
        "    def __init__(self, feature=None, threshold=None, left=None, right=None, *, value=None):\n",
        "        self.feature = feature\n",
        "        self.threshold = threshold\n",
        "        self.left = left\n",
        "        self.right = right\n",
        "        self.value = value\n",
        "\n",
        "    def is_leaf(self):\n",
        "        return self.value is not None"
      ],
      "metadata": {
        "id": "DeFg54XFyDcE"
      },
      "execution_count": 36,
      "outputs": []
    },
    {
      "cell_type": "code",
      "source": [
        "class DecisionTree:\n",
        "    def __init__(self, max_depth=100, min_samples_split=2):\n",
        "        self.max_depth = max_depth\n",
        "        self.min_samples_split = min_samples_split\n",
        "        self.root = None\n",
        "\n",
        "    def fit(self, X, y):\n",
        "        self.n_classes = len(set(y))\n",
        "        self.n_features = X.shape[1]\n",
        "        self.root = self._grow_tree(X, y)\n",
        "\n",
        "    def _grow_tree(self, X, y, depth=0):\n",
        "        num_samples, num_features = X.shape\n",
        "        num_labels = len(set(y))\n",
        "        if (depth >= self.max_depth or num_labels == 1 or num_samples < self.min_samples_split):\n",
        "            leaf_value = self._most_common_label(y)\n",
        "            return Node(value=leaf_value)\n",
        "        best_gain = -1\n",
        "        split_idx, split_threshold = None, None\n",
        "        for feature_idx in range(num_features):\n",
        "            X_column = X[:, feature_idx]\n",
        "            thresholds = np.unique(X_column)\n",
        "            for t in thresholds:\n",
        "                gain = information_gain(X_column, y, t)\n",
        "                if gain > best_gain:\n",
        "                    best_gain = gain\n",
        "                    split_idx = feature_idx\n",
        "                    split_threshold = t\n",
        "        if best_gain == 0:\n",
        "            leaf_value = self._most_common_label(y)\n",
        "            return Node(value=leaf_value)\n",
        "        left_idxs = np.where(X[:, split_idx] <= split_threshold)[0]\n",
        "        right_idxs = np.where(X[:, split_idx] > split_threshold)[0]\n",
        "        left = self._grow_tree(X[left_idxs, :], y[left_idxs], depth + 1)\n",
        "        right = self._grow_tree(X[right_idxs, :], y[right_idxs], depth + 1)\n",
        "        return Node(split_idx, split_threshold, left, right)\n",
        "\n",
        "    def _most_common_label(self, y):\n",
        "        counter = Counter(y)\n",
        "        return counter.most_common(1)[0][0]\n",
        "\n",
        "    def predict(self, X):\n",
        "        return np.array([self._traverse_tree(x, self.root) for x in X])\n",
        "\n",
        "    def _traverse_tree(self, x, node):\n",
        "        if node.is_leaf():\n",
        "            return node.value\n",
        "        if x[node.feature] <= node.threshold:\n",
        "            return self._traverse_tree(x, node.left)\n",
        "        return self._traverse_tree(x, node.right)"
      ],
      "metadata": {
        "id": "i5iESquQyPit"
      },
      "execution_count": 37,
      "outputs": []
    },
    {
      "cell_type": "code",
      "source": [
        "def main():\n",
        "  data = load_iris()\n",
        "  X, y = data.data, data.target\n",
        "  X_train, X_test, y_train, y_test = train_test_split(X, y, test_size=0.2, random_state=42)\n",
        "  clf = DecisionTree(max_depth=5)\n",
        "  clf.fit(X_train, y_train)\n",
        "  preds = clf.predict(X_test)\n",
        "  acc = np.sum(preds == y_test) / len(y_test)\n",
        "  print(f\"Accuracy: {acc}\")"
      ],
      "metadata": {
        "id": "Qk7Cc9N6yXmP"
      },
      "execution_count": 38,
      "outputs": []
    },
    {
      "cell_type": "code",
      "source": [
        "main()"
      ],
      "metadata": {
        "colab": {
          "base_uri": "https://localhost:8080/"
        },
        "id": "j285eOERysf0",
        "outputId": "780aa85b-944a-42ec-f51e-73cf0fecf15a"
      },
      "execution_count": 39,
      "outputs": [
        {
          "output_type": "stream",
          "name": "stdout",
          "text": [
            "Accuracy: 1.0\n"
          ]
        }
      ]
    }
  ]
}