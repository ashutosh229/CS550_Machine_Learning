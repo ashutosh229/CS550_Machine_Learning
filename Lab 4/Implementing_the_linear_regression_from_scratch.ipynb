{
  "nbformat": 4,
  "nbformat_minor": 0,
  "metadata": {
    "colab": {
      "provenance": []
    },
    "kernelspec": {
      "name": "python3",
      "display_name": "Python 3"
    },
    "language_info": {
      "name": "python"
    }
  },
  "cells": [
    {
      "cell_type": "markdown",
      "source": [
        "### Linear Regression (Closed Form Solution)"
      ],
      "metadata": {
        "id": "Ni9jWEdIbuzf"
      }
    },
    {
      "cell_type": "code",
      "execution_count": null,
      "metadata": {
        "id": "jlfLzGxno1Z5"
      },
      "outputs": [],
      "source": [
        "import numpy as np"
      ]
    },
    {
      "cell_type": "code",
      "source": [
        "class ScratchLinearRegression:\n",
        "    def __init__(self):\n",
        "        self.coefficients = None\n",
        "        self.intercept = None\n",
        "\n",
        "    def fit(self, X, y):\n",
        "        X_b = np.c_[np.ones((X.shape[0], 1)), X]\n",
        "        theta_best = np.linalg.inv(X_b.T.dot(X_b)).dot(X_b.T).dot(y)\n",
        "        self.intercept = theta_best[0]\n",
        "        self.coefficients = theta_best[1:]\n",
        "\n",
        "    def predict(self, X):\n",
        "        return X.dot(self.coefficients) + self.intercept"
      ],
      "metadata": {
        "id": "Pu_KuBJ5LkrY"
      },
      "execution_count": null,
      "outputs": []
    },
    {
      "cell_type": "code",
      "source": [
        "def mean_squared_error(y_true, y_pred):\n",
        "    return np.mean((y_true - y_pred) ** 2)"
      ],
      "metadata": {
        "id": "dm0liuWLLmb-"
      },
      "execution_count": null,
      "outputs": []
    },
    {
      "cell_type": "code",
      "source": [
        "def main():\n",
        "    X_train = np.array([[1], [2], [3], [4], [5]])\n",
        "    y_train = np.array([2, 4, 6, 8, 10])  # y = 2x\n",
        "    X_test = np.array([[6], [7]])\n",
        "    y_test = np.array([12, 14])\n",
        "    model = ScratchLinearRegression()\n",
        "    model.fit(X_train, y_train)\n",
        "    y_pred = model.predict(X_test)\n",
        "    print(\"Intercept:\", model.intercept)\n",
        "    print(\"Coefficients:\", model.coefficients)\n",
        "    print(\"Predictions:\", y_pred)\n",
        "    mse = mean_squared_error(y_test, y_pred)\n",
        "    print(\"Mean Squared Error:\", mse)"
      ],
      "metadata": {
        "id": "2WdKB3TlLo55"
      },
      "execution_count": null,
      "outputs": []
    },
    {
      "cell_type": "code",
      "source": [
        "main()"
      ],
      "metadata": {
        "colab": {
          "base_uri": "https://localhost:8080/"
        },
        "id": "LXeuWexUL5Ml",
        "outputId": "3aa0ec0a-07a4-4b05-a3b6-db68ecd7acad"
      },
      "execution_count": null,
      "outputs": [
        {
          "output_type": "stream",
          "name": "stdout",
          "text": [
            "Intercept: 5.662137425588298e-15\n",
            "Coefficients: [2.]\n",
            "Predictions: [12. 14.]\n",
            "Mean Squared Error: 1.34106353887572e-28\n"
          ]
        }
      ]
    },
    {
      "cell_type": "markdown",
      "source": [
        "### Linear Regression (Gradient Descent)"
      ],
      "metadata": {
        "id": "8tVbuYKDb14c"
      }
    },
    {
      "cell_type": "code",
      "source": [
        "class ScratchLinearRegressionGD:\n",
        "    def __init__(self, learning_rate=0.01, n_iterations=1000):\n",
        "        self.learning_rate = learning_rate\n",
        "        self.n_iterations = n_iterations\n",
        "        self.coefficients = None\n",
        "        self.intercept = None\n",
        "\n",
        "    def fit(self, X, y):\n",
        "        m, n = X.shape\n",
        "        X_b = np.c_[np.ones((m, 1)), X]\n",
        "        theta = np.zeros(n + 1)\n",
        "        for _ in range(self.n_iterations):\n",
        "            gradients = (2/m) * X_b.T.dot(X_b.dot(theta) - y)\n",
        "            theta -= self.learning_rate * gradients\n",
        "        self.intercept = theta[0]\n",
        "        self.coefficients = theta[1:]\n",
        "\n",
        "    def predict(self, X):\n",
        "        return X.dot(self.coefficients) + self.intercept"
      ],
      "metadata": {
        "id": "GWlTCFgUL5sY"
      },
      "execution_count": null,
      "outputs": []
    },
    {
      "cell_type": "code",
      "source": [
        "def mean_squared_error(y_true, y_pred):\n",
        "    return np.mean((y_true - y_pred) ** 2)"
      ],
      "metadata": {
        "id": "IJhPhfAGMPGw"
      },
      "execution_count": null,
      "outputs": []
    },
    {
      "cell_type": "code",
      "source": [
        "def main2():\n",
        "    X_train = np.array([[1], [2], [3], [4], [5]])\n",
        "    y_train = np.array([2, 4, 6, 8, 10])\n",
        "    X_test = np.array([[6], [7]])\n",
        "    y_test = np.array([12, 14])\n",
        "    model = ScratchLinearRegressionGD(learning_rate=0.01, n_iterations=1000)\n",
        "    model.fit(X_train, y_train)\n",
        "    y_pred = model.predict(X_test)\n",
        "    print(\"Intercept:\", model.intercept)\n",
        "    print(\"Coefficients:\", model.coefficients)\n",
        "    print(\"Predictions:\", y_pred)\n",
        "    mse = mean_squared_error(y_test, y_pred)\n",
        "    print(\"Mean Squared Error:\", mse)"
      ],
      "metadata": {
        "id": "TDqc2aoPMQp8"
      },
      "execution_count": null,
      "outputs": []
    },
    {
      "cell_type": "code",
      "source": [
        "main2()"
      ],
      "metadata": {
        "colab": {
          "base_uri": "https://localhost:8080/"
        },
        "id": "Fppsq735Mb_w",
        "outputId": "85c4a4c5-07c8-4b95-b1ca-135dd1ad9721"
      },
      "execution_count": null,
      "outputs": [
        {
          "output_type": "stream",
          "name": "stdout",
          "text": [
            "Intercept: 0.017400463340610635\n",
            "Coefficients: [1.99518035]\n",
            "Predictions: [11.98848257 13.98366292]\n",
            "Mean Squared Error: 0.00019977575057585295\n"
          ]
        }
      ]
    }
  ]
}