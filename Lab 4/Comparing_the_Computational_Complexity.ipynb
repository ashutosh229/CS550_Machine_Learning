{
  "cells": [
    {
      "cell_type": "markdown",
      "source": [
        "### Computational Complexity: Question 1"
      ],
      "metadata": {
        "id": "_dbJJXfwb_V2"
      }
    },
    {
      "cell_type": "code",
      "execution_count": null,
      "metadata": {
        "id": "Z7bgrHMoMuuR"
      },
      "outputs": [],
      "source": [
        "import pandas as pd\n",
        "import numpy as np"
      ]
    },
    {
      "cell_type": "code",
      "execution_count": null,
      "metadata": {
        "id": "qnlgHKc4Nanm"
      },
      "outputs": [],
      "source": [
        "def operation_counts(m, features_list, epochs_batch=200, epochs_mb=400, epochs_sgd=1200):\n",
        "    rows = []\n",
        "    for k in features_list:\n",
        "        ops_ne = m * (k**2) + (k**3)/3\n",
        "        ops_svd = m * (k**2) + (k**3)\n",
        "        ops_batch = 2 * epochs_batch * m * k\n",
        "        ops_minibatch = 2 * epochs_mb * m * k\n",
        "        ops_sgd = 2 * epochs_sgd * m * k\n",
        "        rows.append({\n",
        "            \"Features (k)\": k,\n",
        "            \"Closed-form NE (≈m·k²+⅓k³)\": int(ops_ne),\n",
        "            \"Closed-form SVD (≈m·k²+k³)\": int(ops_svd),\n",
        "            \"Batch GD (≈2E·m·k)\": int(ops_batch),\n",
        "            \"Mini-batch GD (≈2E·m·k)\": int(ops_minibatch),\n",
        "            \"SGD (≈2E·m·k)\": int(ops_sgd)\n",
        "        })\n",
        "\n",
        "    return pd.DataFrame(rows)"
      ]
    },
    {
      "cell_type": "code",
      "execution_count": null,
      "metadata": {
        "id": "8b0mQuoANcZC"
      },
      "outputs": [],
      "source": [
        "def main():\n",
        "    m = 10_000\n",
        "    features_list = [2, 5, 10, 15, 20]\n",
        "    df = operation_counts(m, features_list)\n",
        "    print(\"\\nOperation Counts Comparison (m=10,000)\\n\")\n",
        "    print(df.to_string(index=False))"
      ]
    },
    {
      "cell_type": "code",
      "execution_count": null,
      "metadata": {
        "colab": {
          "base_uri": "https://localhost:8080/"
        },
        "id": "REUKSIt4NxZq",
        "outputId": "69edcc1a-d8c6-472b-cf50-b2eb051ebad9"
      },
      "outputs": [
        {
          "output_type": "stream",
          "name": "stdout",
          "text": [
            "\n",
            "Operation Counts Comparison (m=10,000)\n",
            "\n",
            " Features (k)  Closed-form NE (≈m·k²+⅓k³)  Closed-form SVD (≈m·k²+k³)  Batch GD (≈2E·m·k)  Mini-batch GD (≈2E·m·k)  SGD (≈2E·m·k)\n",
            "            2                       40002                       40008             8000000                 16000000       48000000\n",
            "            5                      250041                      250125            20000000                 40000000      120000000\n",
            "           10                     1000333                     1001000            40000000                 80000000      240000000\n",
            "           15                     2251125                     2253375            60000000                120000000      360000000\n",
            "           20                     4002666                     4008000            80000000                160000000      480000000\n"
          ]
        }
      ],
      "source": [
        "main()"
      ]
    },
    {
      "cell_type": "markdown",
      "source": [
        "### Computational Complexity: Question 2"
      ],
      "metadata": {
        "id": "kPs6EbxwcFUf"
      }
    },
    {
      "cell_type": "code",
      "execution_count": null,
      "metadata": {
        "id": "8A0A2YnCNxdj"
      },
      "outputs": [],
      "source": [
        "def gradient_descent_ops(m, k, lr=0.01, mode=\"batch\", batch_size=None, tol=1e-3, max_epochs=10000):\n",
        "    np.random.seed(0)\n",
        "    X = np.random.randn(m, k)\n",
        "    true_coef = np.random.randn(k)\n",
        "    y = X @ true_coef + np.random.randn(m)*0.1\n",
        "    theta = np.zeros(k)\n",
        "    ops = 0\n",
        "    epochs = 0\n",
        "    while epochs < max_epochs:\n",
        "        epochs += 1\n",
        "        if mode == \"batch\":\n",
        "            grad = (2/m) * X.T @ (X @ theta - y)\n",
        "            new_theta = theta - lr * grad\n",
        "            ops += 2*m*k\n",
        "        elif mode == \"minibatch\":\n",
        "            if batch_size is None:\n",
        "                batch_size = 32\n",
        "            for i in range(0, m, batch_size):\n",
        "                X_batch = X[i:i+batch_size]\n",
        "                y_batch = y[i:i+batch_size]\n",
        "                grad = (2/len(X_batch)) * X_batch.T @ (X_batch @ theta - y_batch)\n",
        "                new_theta = theta - lr * grad\n",
        "                theta = new_theta\n",
        "                ops += 2*len(X_batch)*k\n",
        "            continue\n",
        "        elif mode == \"sgd\":\n",
        "            for i in range(m):\n",
        "                xi = X[i].reshape(1, -1)\n",
        "                yi = y[i]\n",
        "                grad = 2 * xi.T @ (xi @ theta - yi)\n",
        "                new_theta = theta - lr * grad.flatten()\n",
        "                theta = new_theta\n",
        "                ops += 2*k\n",
        "            continue\n",
        "        else:\n",
        "            raise ValueError(\"Invalid mode\")\n",
        "        if np.linalg.norm(new_theta - theta) < tol:\n",
        "            break\n",
        "        theta = new_theta\n",
        "    return epochs, ops"
      ]
    },
    {
      "cell_type": "code",
      "execution_count": null,
      "metadata": {
        "id": "ZyohMSWRU-Ye"
      },
      "outputs": [],
      "source": [
        "def main1():\n",
        "    m = 1000\n",
        "    features_list = [2, 5, 10, 15, 20]\n",
        "\n",
        "    results = []\n",
        "    for k in features_list:\n",
        "        batch_epochs, batch_ops = gradient_descent_ops(m, k, lr=0.01, mode=\"batch\")\n",
        "        mb_epochs, mb_ops = gradient_descent_ops(m, k, lr=0.01, mode=\"minibatch\", batch_size=32)\n",
        "        sgd_epochs, sgd_ops = gradient_descent_ops(m, k, lr=0.01, mode=\"sgd\")\n",
        "\n",
        "        results.append({\n",
        "            \"Features (k)\": k,\n",
        "            \"Batch GD (epochs, ops)\": (batch_epochs, batch_ops),\n",
        "            \"Mini-batch GD (epochs, ops)\": (mb_epochs, mb_ops),\n",
        "            \"SGD (epochs, ops)\": (sgd_epochs, sgd_ops)\n",
        "        })\n",
        "\n",
        "    df = pd.DataFrame(results)\n",
        "    print(df.to_string(index=False))"
      ]
    },
    {
      "cell_type": "code",
      "execution_count": null,
      "metadata": {
        "colab": {
          "base_uri": "https://localhost:8080/"
        },
        "id": "UKpm02OgVDam",
        "outputId": "736d3468-0cc0-42c0-ce5c-8bf4f91bfa45"
      },
      "outputs": [
        {
          "output_type": "stream",
          "name": "stdout",
          "text": [
            " Features (k) Batch GD (epochs, ops) Mini-batch GD (epochs, ops)  SGD (epochs, ops)\n",
            "            2          (199, 796000)           (10000, 40000000)  (10000, 40000000)\n",
            "            5         (200, 2000000)          (10000, 100000000) (10000, 100000000)\n",
            "           10         (223, 4460000)          (10000, 200000000) (10000, 200000000)\n",
            "           15         (230, 6900000)          (10000, 300000000) (10000, 300000000)\n",
            "           20         (237, 9480000)          (10000, 400000000) (10000, 400000000)\n"
          ]
        }
      ],
      "source": [
        "main1()"
      ]
    }
  ],
  "metadata": {
    "colab": {
      "provenance": [],
      "gpuType": "T4"
    },
    "kernelspec": {
      "display_name": "Python 3",
      "name": "python3"
    },
    "language_info": {
      "name": "python"
    },
    "accelerator": "GPU"
  },
  "nbformat": 4,
  "nbformat_minor": 0
}